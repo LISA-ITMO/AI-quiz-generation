{
  "nbformat": 4,
  "nbformat_minor": 0,
  "metadata": {
    "colab": {
      "provenance": []
    },
    "kernelspec": {
      "name": "python3",
      "display_name": "Python 3"
    },
    "language_info": {
      "name": "python"
    }
  },
  "cells": [
    {
      "cell_type": "markdown",
      "source": [
        "## Generate Quizzes of Course Materials (PDF) using LlamaIndex, Astra DB (Apache Cassandra), and Gradient's open-source models, including LLama2/Mixtral.\n",
        "\n",
        "[**Link to my GitHub**](https://github.com/baltsat)\n",
        "\n",
        "Click on the link below to open a Colab version of the notebook. You will be able to create your own version."
      ],
      "metadata": {
        "id": "sbzI6KKiDv78"
      }
    },
    {
      "cell_type": "markdown",
      "source": [
        "<a href=\"https://colab.research.google.com/gist/Baltsat/a7821ff379ce13ece8ac894faefd8428/ai-quiz-generation.ipynb\" target=\"_blank\"><img height=\"40\" alt=\"Run your own notebook in Colab\" src = \"https://colab.research.google.com/assets/colab-badge.svg\"></a>"
      ],
      "metadata": {
        "id": "iW1MO9bXD964"
      }
    },
    {
      "cell_type": "markdown",
      "source": [
        "# Installation"
      ],
      "metadata": {
        "id": "XaiKzsSw4FBM"
      }
    },
    {
      "cell_type": "code",
      "source": [
        "!pip install -q cassandra-driver\n",
        "!pip install -q cassio>=0.1.1\n",
        "!pip install -q gradientai --upgrade\n",
        "!pip install -q llama-index\n",
        "!pip install -q pypdf\n",
        "!pip install -q tiktoken==0.4.0\n",
        "\n",
        "!pip install -q langchain\n",
        "!pip install -q sentence-transformers\n",
        "\n",
        "!pip install -q accelerate"
      ],
      "metadata": {
        "id": "wak76xYYUdXE",
        "colab": {
          "base_uri": "https://localhost:8080/"
        },
        "outputId": "9a37f4fd-d312-4bbb-e515-5ac0fc5c715f"
      },
      "execution_count": null,
      "outputs": [
        {
          "output_type": "stream",
          "name": "stdout",
          "text": [
            "\u001b[2K     \u001b[90m━━━━━━━━━━━━━━━━━━━━━━━━━━━━━━━━━━━━━━━━\u001b[0m \u001b[32m18.8/18.8 MB\u001b[0m \u001b[31m60.1 MB/s\u001b[0m eta \u001b[36m0:00:00\u001b[0m\n",
            "\u001b[2K     \u001b[90m━━━━━━━━━━━━━━━━━━━━━━━━━━━━━━━━━━━━━━━━\u001b[0m \u001b[32m270.4/270.4 kB\u001b[0m \u001b[31m4.9 MB/s\u001b[0m eta \u001b[36m0:00:00\u001b[0m\n",
            "\u001b[2K     \u001b[90m━━━━━━━━━━━━━━━━━━━━━━━━━━━━━━━━━━━━━━━━\u001b[0m \u001b[32m137.6/137.6 kB\u001b[0m \u001b[31m15.1 MB/s\u001b[0m eta \u001b[36m0:00:00\u001b[0m\n",
            "\u001b[2K     \u001b[90m━━━━━━━━━━━━━━━━━━━━━━━━━━━━━━━━━━━━━━━━\u001b[0m \u001b[32m15.9/15.9 MB\u001b[0m \u001b[31m33.9 MB/s\u001b[0m eta \u001b[36m0:00:00\u001b[0m\n",
            "\u001b[2K     \u001b[90m━━━━━━━━━━━━━━━━━━━━━━━━━━━━━━━━━━━━━━━━\u001b[0m \u001b[32m75.9/75.9 kB\u001b[0m \u001b[31m11.1 MB/s\u001b[0m eta \u001b[36m0:00:00\u001b[0m\n",
            "\u001b[2K     \u001b[90m━━━━━━━━━━━━━━━━━━━━━━━━━━━━━━━━━━━━━━━━\u001b[0m \u001b[32m226.1/226.1 kB\u001b[0m \u001b[31m26.0 MB/s\u001b[0m eta \u001b[36m0:00:00\u001b[0m\n",
            "\u001b[2K     \u001b[90m━━━━━━━━━━━━━━━━━━━━━━━━━━━━━━━━━━━━━━━━\u001b[0m \u001b[32m2.0/2.0 MB\u001b[0m \u001b[31m42.0 MB/s\u001b[0m eta \u001b[36m0:00:00\u001b[0m\n",
            "\u001b[2K     \u001b[90m━━━━━━━━━━━━━━━━━━━━━━━━━━━━━━━━━━━━━━━━\u001b[0m \u001b[32m76.9/76.9 kB\u001b[0m \u001b[31m8.9 MB/s\u001b[0m eta \u001b[36m0:00:00\u001b[0m\n",
            "\u001b[2K     \u001b[90m━━━━━━━━━━━━━━━━━━━━━━━━━━━━━━━━━━━━━━━━\u001b[0m \u001b[32m58.3/58.3 kB\u001b[0m \u001b[31m7.5 MB/s\u001b[0m eta \u001b[36m0:00:00\u001b[0m\n",
            "\u001b[2K     \u001b[90m━━━━━━━━━━━━━━━━━━━━━━━━━━━━━━━━━━━━━━━━\u001b[0m \u001b[32m49.4/49.4 kB\u001b[0m \u001b[31m7.0 MB/s\u001b[0m eta \u001b[36m0:00:00\u001b[0m\n",
            "\u001b[?25h\u001b[31mERROR: pip's dependency resolver does not currently take into account all the packages that are installed. This behaviour is the source of the following dependency conflicts.\n",
            "llmx 0.0.15a0 requires cohere, which is not installed.\n",
            "tensorflow-probability 0.22.0 requires typing-extensions<4.6.0, but you have typing-extensions 4.9.0 which is incompatible.\u001b[0m\u001b[31m\n",
            "\u001b[2K     \u001b[90m━━━━━━━━━━━━━━━━━━━━━━━━━━━━━━━━━━━━━━━━\u001b[0m \u001b[32m284.0/284.0 kB\u001b[0m \u001b[31m5.2 MB/s\u001b[0m eta \u001b[36m0:00:00\u001b[0m\n",
            "\u001b[2K     \u001b[90m━━━━━━━━━━━━━━━━━━━━━━━━━━━━━━━━━━━━━━━━\u001b[0m \u001b[32m1.7/1.7 MB\u001b[0m \u001b[31m9.2 MB/s\u001b[0m eta \u001b[36m0:00:00\u001b[0m\n",
            "\u001b[?25h\u001b[31mERROR: pip's dependency resolver does not currently take into account all the packages that are installed. This behaviour is the source of the following dependency conflicts.\n",
            "llmx 0.0.15a0 requires cohere, which is not installed.\u001b[0m\u001b[31m\n",
            "\u001b[2K     \u001b[90m━━━━━━━━━━━━━━━━━━━━━━━━━━━━━━━━━━━━━━━━\u001b[0m \u001b[32m806.7/806.7 kB\u001b[0m \u001b[31m10.4 MB/s\u001b[0m eta \u001b[36m0:00:00\u001b[0m\n",
            "\u001b[2K     \u001b[90m━━━━━━━━━━━━━━━━━━━━━━━━━━━━━━━━━━━━━━━━\u001b[0m \u001b[32m1.6/1.6 MB\u001b[0m \u001b[31m53.3 MB/s\u001b[0m eta \u001b[36m0:00:00\u001b[0m\n",
            "\u001b[2K     \u001b[90m━━━━━━━━━━━━━━━━━━━━━━━━━━━━━━━━━━━━━━━━\u001b[0m \u001b[32m237.0/237.0 kB\u001b[0m \u001b[31m27.2 MB/s\u001b[0m eta \u001b[36m0:00:00\u001b[0m\n",
            "\u001b[2K     \u001b[90m━━━━━━━━━━━━━━━━━━━━━━━━━━━━━━━━━━━━━━━━\u001b[0m \u001b[32m54.4/54.4 kB\u001b[0m \u001b[31m6.8 MB/s\u001b[0m eta \u001b[36m0:00:00\u001b[0m\n",
            "\u001b[2K     \u001b[90m━━━━━━━━━━━━━━━━━━━━━━━━━━━━━━━━━━━━━━━━\u001b[0m \u001b[32m132.8/132.8 kB\u001b[0m \u001b[31m2.9 MB/s\u001b[0m eta \u001b[36m0:00:00\u001b[0m\n",
            "\u001b[2K     \u001b[90m━━━━━━━━━━━━━━━━━━━━━━━━━━━━━━━━━━━━━━━━\u001b[0m \u001b[32m270.9/270.9 kB\u001b[0m \u001b[31m5.1 MB/s\u001b[0m eta \u001b[36m0:00:00\u001b[0m\n",
            "\u001b[?25h"
          ]
        }
      ]
    },
    {
      "cell_type": "markdown",
      "source": [
        "# Import OS & JSON Modules"
      ],
      "metadata": {
        "id": "2iILdU7U4Hya"
      }
    },
    {
      "cell_type": "code",
      "source": [
        "import os\n",
        "import json\n",
        "from google.colab import userdata\n",
        "\n",
        "# os.environ['GRADIENT_ACCESS_TOKEN'] = 'PUT_YOURS_HERE'\n",
        "# os.environ['GRADIENT_WORKSPACE_ID'] =  'PUT_YOURS_HERE'"
      ],
      "metadata": {
        "id": "U02ytLrPA2rG"
      },
      "execution_count": null,
      "outputs": []
    },
    {
      "cell_type": "markdown",
      "source": [
        "# Import Cassandra & llama Index"
      ],
      "metadata": {
        "id": "u3IS4xyg4N63"
      }
    },
    {
      "cell_type": "code",
      "source": [
        "from cassandra.auth import PlainTextAuthProvider\n",
        "from cassandra.cluster import Cluster\n",
        "from llama_index import ServiceContext\n",
        "from llama_index import set_global_service_context\n",
        "from llama_index import VectorStoreIndex, SimpleDirectoryReader, StorageContext\n",
        "from llama_index.embeddings import GradientEmbedding, LangchainEmbedding\n",
        "from langchain.embeddings import HuggingFaceEmbeddings\n",
        "from llama_index.llms import GradientBaseModelLLM, HuggingFaceLLM\n",
        "from llama_index.vector_stores import CassandraVectorStore"
      ],
      "metadata": {
        "id": "GhZ1NMr2z3vF"
      },
      "execution_count": null,
      "outputs": []
    },
    {
      "cell_type": "code",
      "source": [
        "import cassandra\n",
        "print (cassandra.__version__)"
      ],
      "metadata": {
        "id": "Q28fIUq91zED",
        "colab": {
          "base_uri": "https://localhost:8080/"
        },
        "outputId": "59d01621-b0b9-44a9-b7b8-f7db139304e0"
      },
      "execution_count": null,
      "outputs": [
        {
          "output_type": "stream",
          "name": "stdout",
          "text": [
            "3.29.0\n"
          ]
        }
      ]
    },
    {
      "cell_type": "code",
      "source": [
        "from pprint import pprint as pprint"
      ],
      "metadata": {
        "id": "9Kygw5cjp-xv"
      },
      "execution_count": null,
      "outputs": []
    },
    {
      "cell_type": "markdown",
      "source": [
        "# Connect to the VectorDB"
      ],
      "metadata": {
        "id": "cuio1UWlEMkQ"
      }
    },
    {
      "cell_type": "code",
      "source": [
        "# This secure connect bundle is autogenerated when you donwload your SCB,\n",
        "# if yours is different update the file name below\n",
        "cloud_config= {\n",
        "  'secure_connect_bundle': 'secure-connect-temp-db.zip'\n",
        "}\n",
        "\n",
        "# This token json file is autogenerated when you download your token,\n",
        "# if yours is different update the file name below\n",
        "with open(\"konstantin.baltsat@edu.esiee.fr-token.json\") as f:\n",
        "    secrets = json.load(f)\n",
        "\n",
        "CLIENT_ID = secrets[\"clientId\"]\n",
        "CLIENT_SECRET = secrets[\"secret\"]\n",
        "\n",
        "auth_provider = PlainTextAuthProvider(CLIENT_ID, CLIENT_SECRET)\n",
        "cluster = Cluster(cloud=cloud_config, auth_provider=auth_provider)\n",
        "session = cluster.connect()\n",
        "\n",
        "row = session.execute(\"select release_version from system.local\").one()\n",
        "if row:\n",
        "  print(row[0])\n",
        "else:\n",
        "  print(\"An error occurred.\")"
      ],
      "metadata": {
        "id": "jYn5am9c1zGS",
        "colab": {
          "base_uri": "https://localhost:8080/",
          "height": 828
        },
        "outputId": "f24910c1-734b-4d4b-d9b5-2f69936cdf33"
      },
      "execution_count": null,
      "outputs": [
        {
          "output_type": "stream",
          "name": "stderr",
          "text": [
            "ERROR:cassandra.datastax.cloud:HTTP Error 401: Unauthorized\n",
            "Traceback (most recent call last):\n",
            "  File \"/usr/local/lib/python3.10/dist-packages/cassandra/datastax/cloud/__init__.py\", line 137, in read_metadata_info\n",
            "    response = urlopen(url, context=config.ssl_context, timeout=timeout)\n",
            "  File \"/usr/lib/python3.10/urllib/request.py\", line 216, in urlopen\n",
            "    return opener.open(url, data, timeout)\n",
            "  File \"/usr/lib/python3.10/urllib/request.py\", line 525, in open\n",
            "    response = meth(req, response)\n",
            "  File \"/usr/lib/python3.10/urllib/request.py\", line 634, in http_response\n",
            "    response = self.parent.error(\n",
            "  File \"/usr/lib/python3.10/urllib/request.py\", line 563, in error\n",
            "    return self._call_chain(*args)\n",
            "  File \"/usr/lib/python3.10/urllib/request.py\", line 496, in _call_chain\n",
            "    result = func(*args)\n",
            "  File \"/usr/lib/python3.10/urllib/request.py\", line 643, in http_error_default\n",
            "    raise HTTPError(req.full_url, code, msg, hdrs, fp)\n",
            "urllib.error.HTTPError: HTTP Error 401: Unauthorized\n"
          ]
        },
        {
          "output_type": "error",
          "ename": "DriverException",
          "evalue": "Unable to connect to the metadata service at https://3c4fc467-6c52-444c-8464-0ebddaaed953-us-east1.db.astra.datastax.com:29080/metadata. Check the cluster status in the cloud console. ",
          "traceback": [
            "\u001b[0;31m---------------------------------------------------------------------------\u001b[0m",
            "\u001b[0;31mHTTPError\u001b[0m                                 Traceback (most recent call last)",
            "\u001b[0;32m/usr/local/lib/python3.10/dist-packages/cassandra/datastax/cloud/__init__.py\u001b[0m in \u001b[0;36mread_metadata_info\u001b[0;34m(config, cloud_config)\u001b[0m\n\u001b[1;32m    136\u001b[0m     \u001b[0;32mtry\u001b[0m\u001b[0;34m:\u001b[0m\u001b[0;34m\u001b[0m\u001b[0;34m\u001b[0m\u001b[0m\n\u001b[0;32m--> 137\u001b[0;31m         \u001b[0mresponse\u001b[0m \u001b[0;34m=\u001b[0m \u001b[0murlopen\u001b[0m\u001b[0;34m(\u001b[0m\u001b[0murl\u001b[0m\u001b[0;34m,\u001b[0m \u001b[0mcontext\u001b[0m\u001b[0;34m=\u001b[0m\u001b[0mconfig\u001b[0m\u001b[0;34m.\u001b[0m\u001b[0mssl_context\u001b[0m\u001b[0;34m,\u001b[0m \u001b[0mtimeout\u001b[0m\u001b[0;34m=\u001b[0m\u001b[0mtimeout\u001b[0m\u001b[0;34m)\u001b[0m\u001b[0;34m\u001b[0m\u001b[0;34m\u001b[0m\u001b[0m\n\u001b[0m\u001b[1;32m    138\u001b[0m     \u001b[0;32mexcept\u001b[0m \u001b[0mException\u001b[0m \u001b[0;32mas\u001b[0m \u001b[0me\u001b[0m\u001b[0;34m:\u001b[0m\u001b[0;34m\u001b[0m\u001b[0;34m\u001b[0m\u001b[0m\n",
            "\u001b[0;32m/usr/lib/python3.10/urllib/request.py\u001b[0m in \u001b[0;36murlopen\u001b[0;34m(url, data, timeout, cafile, capath, cadefault, context)\u001b[0m\n\u001b[1;32m    215\u001b[0m         \u001b[0mopener\u001b[0m \u001b[0;34m=\u001b[0m \u001b[0m_opener\u001b[0m\u001b[0;34m\u001b[0m\u001b[0;34m\u001b[0m\u001b[0m\n\u001b[0;32m--> 216\u001b[0;31m     \u001b[0;32mreturn\u001b[0m \u001b[0mopener\u001b[0m\u001b[0;34m.\u001b[0m\u001b[0mopen\u001b[0m\u001b[0;34m(\u001b[0m\u001b[0murl\u001b[0m\u001b[0;34m,\u001b[0m \u001b[0mdata\u001b[0m\u001b[0;34m,\u001b[0m \u001b[0mtimeout\u001b[0m\u001b[0;34m)\u001b[0m\u001b[0;34m\u001b[0m\u001b[0;34m\u001b[0m\u001b[0m\n\u001b[0m\u001b[1;32m    217\u001b[0m \u001b[0;34m\u001b[0m\u001b[0m\n",
            "\u001b[0;32m/usr/lib/python3.10/urllib/request.py\u001b[0m in \u001b[0;36mopen\u001b[0;34m(self, fullurl, data, timeout)\u001b[0m\n\u001b[1;32m    524\u001b[0m             \u001b[0mmeth\u001b[0m \u001b[0;34m=\u001b[0m \u001b[0mgetattr\u001b[0m\u001b[0;34m(\u001b[0m\u001b[0mprocessor\u001b[0m\u001b[0;34m,\u001b[0m \u001b[0mmeth_name\u001b[0m\u001b[0;34m)\u001b[0m\u001b[0;34m\u001b[0m\u001b[0;34m\u001b[0m\u001b[0m\n\u001b[0;32m--> 525\u001b[0;31m             \u001b[0mresponse\u001b[0m \u001b[0;34m=\u001b[0m \u001b[0mmeth\u001b[0m\u001b[0;34m(\u001b[0m\u001b[0mreq\u001b[0m\u001b[0;34m,\u001b[0m \u001b[0mresponse\u001b[0m\u001b[0;34m)\u001b[0m\u001b[0;34m\u001b[0m\u001b[0;34m\u001b[0m\u001b[0m\n\u001b[0m\u001b[1;32m    526\u001b[0m \u001b[0;34m\u001b[0m\u001b[0m\n",
            "\u001b[0;32m/usr/lib/python3.10/urllib/request.py\u001b[0m in \u001b[0;36mhttp_response\u001b[0;34m(self, request, response)\u001b[0m\n\u001b[1;32m    633\u001b[0m         \u001b[0;32mif\u001b[0m \u001b[0;32mnot\u001b[0m \u001b[0;34m(\u001b[0m\u001b[0;36m200\u001b[0m \u001b[0;34m<=\u001b[0m \u001b[0mcode\u001b[0m \u001b[0;34m<\u001b[0m \u001b[0;36m300\u001b[0m\u001b[0;34m)\u001b[0m\u001b[0;34m:\u001b[0m\u001b[0;34m\u001b[0m\u001b[0;34m\u001b[0m\u001b[0m\n\u001b[0;32m--> 634\u001b[0;31m             response = self.parent.error(\n\u001b[0m\u001b[1;32m    635\u001b[0m                 'http', request, response, code, msg, hdrs)\n",
            "\u001b[0;32m/usr/lib/python3.10/urllib/request.py\u001b[0m in \u001b[0;36merror\u001b[0;34m(self, proto, *args)\u001b[0m\n\u001b[1;32m    562\u001b[0m             \u001b[0margs\u001b[0m \u001b[0;34m=\u001b[0m \u001b[0;34m(\u001b[0m\u001b[0mdict\u001b[0m\u001b[0;34m,\u001b[0m \u001b[0;34m'default'\u001b[0m\u001b[0;34m,\u001b[0m \u001b[0;34m'http_error_default'\u001b[0m\u001b[0;34m)\u001b[0m \u001b[0;34m+\u001b[0m \u001b[0morig_args\u001b[0m\u001b[0;34m\u001b[0m\u001b[0;34m\u001b[0m\u001b[0m\n\u001b[0;32m--> 563\u001b[0;31m             \u001b[0;32mreturn\u001b[0m \u001b[0mself\u001b[0m\u001b[0;34m.\u001b[0m\u001b[0m_call_chain\u001b[0m\u001b[0;34m(\u001b[0m\u001b[0;34m*\u001b[0m\u001b[0margs\u001b[0m\u001b[0;34m)\u001b[0m\u001b[0;34m\u001b[0m\u001b[0;34m\u001b[0m\u001b[0m\n\u001b[0m\u001b[1;32m    564\u001b[0m \u001b[0;34m\u001b[0m\u001b[0m\n",
            "\u001b[0;32m/usr/lib/python3.10/urllib/request.py\u001b[0m in \u001b[0;36m_call_chain\u001b[0;34m(self, chain, kind, meth_name, *args)\u001b[0m\n\u001b[1;32m    495\u001b[0m             \u001b[0mfunc\u001b[0m \u001b[0;34m=\u001b[0m \u001b[0mgetattr\u001b[0m\u001b[0;34m(\u001b[0m\u001b[0mhandler\u001b[0m\u001b[0;34m,\u001b[0m \u001b[0mmeth_name\u001b[0m\u001b[0;34m)\u001b[0m\u001b[0;34m\u001b[0m\u001b[0;34m\u001b[0m\u001b[0m\n\u001b[0;32m--> 496\u001b[0;31m             \u001b[0mresult\u001b[0m \u001b[0;34m=\u001b[0m \u001b[0mfunc\u001b[0m\u001b[0;34m(\u001b[0m\u001b[0;34m*\u001b[0m\u001b[0margs\u001b[0m\u001b[0;34m)\u001b[0m\u001b[0;34m\u001b[0m\u001b[0;34m\u001b[0m\u001b[0m\n\u001b[0m\u001b[1;32m    497\u001b[0m             \u001b[0;32mif\u001b[0m \u001b[0mresult\u001b[0m \u001b[0;32mis\u001b[0m \u001b[0;32mnot\u001b[0m \u001b[0;32mNone\u001b[0m\u001b[0;34m:\u001b[0m\u001b[0;34m\u001b[0m\u001b[0;34m\u001b[0m\u001b[0m\n",
            "\u001b[0;32m/usr/lib/python3.10/urllib/request.py\u001b[0m in \u001b[0;36mhttp_error_default\u001b[0;34m(self, req, fp, code, msg, hdrs)\u001b[0m\n\u001b[1;32m    642\u001b[0m     \u001b[0;32mdef\u001b[0m \u001b[0mhttp_error_default\u001b[0m\u001b[0;34m(\u001b[0m\u001b[0mself\u001b[0m\u001b[0;34m,\u001b[0m \u001b[0mreq\u001b[0m\u001b[0;34m,\u001b[0m \u001b[0mfp\u001b[0m\u001b[0;34m,\u001b[0m \u001b[0mcode\u001b[0m\u001b[0;34m,\u001b[0m \u001b[0mmsg\u001b[0m\u001b[0;34m,\u001b[0m \u001b[0mhdrs\u001b[0m\u001b[0;34m)\u001b[0m\u001b[0;34m:\u001b[0m\u001b[0;34m\u001b[0m\u001b[0;34m\u001b[0m\u001b[0m\n\u001b[0;32m--> 643\u001b[0;31m         \u001b[0;32mraise\u001b[0m \u001b[0mHTTPError\u001b[0m\u001b[0;34m(\u001b[0m\u001b[0mreq\u001b[0m\u001b[0;34m.\u001b[0m\u001b[0mfull_url\u001b[0m\u001b[0;34m,\u001b[0m \u001b[0mcode\u001b[0m\u001b[0;34m,\u001b[0m \u001b[0mmsg\u001b[0m\u001b[0;34m,\u001b[0m \u001b[0mhdrs\u001b[0m\u001b[0;34m,\u001b[0m \u001b[0mfp\u001b[0m\u001b[0;34m)\u001b[0m\u001b[0;34m\u001b[0m\u001b[0;34m\u001b[0m\u001b[0m\n\u001b[0m\u001b[1;32m    644\u001b[0m \u001b[0;34m\u001b[0m\u001b[0m\n",
            "\u001b[0;31mHTTPError\u001b[0m: HTTP Error 401: Unauthorized",
            "\nDuring handling of the above exception, another exception occurred:\n",
            "\u001b[0;31mDriverException\u001b[0m                           Traceback (most recent call last)",
            "\u001b[0;32m<ipython-input-6-3cab106a47d7>\u001b[0m in \u001b[0;36m<cell line: 16>\u001b[0;34m()\u001b[0m\n\u001b[1;32m     14\u001b[0m \u001b[0;34m\u001b[0m\u001b[0m\n\u001b[1;32m     15\u001b[0m \u001b[0mauth_provider\u001b[0m \u001b[0;34m=\u001b[0m \u001b[0mPlainTextAuthProvider\u001b[0m\u001b[0;34m(\u001b[0m\u001b[0mCLIENT_ID\u001b[0m\u001b[0;34m,\u001b[0m \u001b[0mCLIENT_SECRET\u001b[0m\u001b[0;34m)\u001b[0m\u001b[0;34m\u001b[0m\u001b[0;34m\u001b[0m\u001b[0m\n\u001b[0;32m---> 16\u001b[0;31m \u001b[0mcluster\u001b[0m \u001b[0;34m=\u001b[0m \u001b[0mCluster\u001b[0m\u001b[0;34m(\u001b[0m\u001b[0mcloud\u001b[0m\u001b[0;34m=\u001b[0m\u001b[0mcloud_config\u001b[0m\u001b[0;34m,\u001b[0m \u001b[0mauth_provider\u001b[0m\u001b[0;34m=\u001b[0m\u001b[0mauth_provider\u001b[0m\u001b[0;34m)\u001b[0m\u001b[0;34m\u001b[0m\u001b[0;34m\u001b[0m\u001b[0m\n\u001b[0m\u001b[1;32m     17\u001b[0m \u001b[0msession\u001b[0m \u001b[0;34m=\u001b[0m \u001b[0mcluster\u001b[0m\u001b[0;34m.\u001b[0m\u001b[0mconnect\u001b[0m\u001b[0;34m(\u001b[0m\u001b[0;34m)\u001b[0m\u001b[0;34m\u001b[0m\u001b[0;34m\u001b[0m\u001b[0m\n\u001b[1;32m     18\u001b[0m \u001b[0;34m\u001b[0m\u001b[0m\n",
            "\u001b[0;32m/usr/local/lib/python3.10/dist-packages/cassandra/cluster.cpython-310-x86_64-linux-gnu.so\u001b[0m in \u001b[0;36mcassandra.cluster.Cluster.__init__\u001b[0;34m()\u001b[0m\n",
            "\u001b[0;32m/usr/local/lib/python3.10/dist-packages/cassandra/datastax/cloud/__init__.py\u001b[0m in \u001b[0;36mget_cloud_config\u001b[0;34m(cloud_config, create_pyopenssl_context)\u001b[0m\n\u001b[1;32m     89\u001b[0m         \u001b[0;32mraise\u001b[0m \u001b[0mValueError\u001b[0m\u001b[0;34m(\u001b[0m\u001b[0;34m\"Unable to open the zip file for the cloud config. Check your secure connect bundle.\"\u001b[0m\u001b[0;34m)\u001b[0m\u001b[0;34m\u001b[0m\u001b[0;34m\u001b[0m\u001b[0m\n\u001b[1;32m     90\u001b[0m \u001b[0;34m\u001b[0m\u001b[0m\n\u001b[0;32m---> 91\u001b[0;31m     \u001b[0mconfig\u001b[0m \u001b[0;34m=\u001b[0m \u001b[0mread_metadata_info\u001b[0m\u001b[0;34m(\u001b[0m\u001b[0mconfig\u001b[0m\u001b[0;34m,\u001b[0m \u001b[0mcloud_config\u001b[0m\u001b[0;34m)\u001b[0m\u001b[0;34m\u001b[0m\u001b[0;34m\u001b[0m\u001b[0m\n\u001b[0m\u001b[1;32m     92\u001b[0m     \u001b[0;32mif\u001b[0m \u001b[0mcreate_pyopenssl_context\u001b[0m\u001b[0;34m:\u001b[0m\u001b[0;34m\u001b[0m\u001b[0;34m\u001b[0m\u001b[0m\n\u001b[1;32m     93\u001b[0m         \u001b[0mconfig\u001b[0m\u001b[0;34m.\u001b[0m\u001b[0mssl_context\u001b[0m \u001b[0;34m=\u001b[0m \u001b[0mconfig\u001b[0m\u001b[0;34m.\u001b[0m\u001b[0mpyopenssl_context\u001b[0m\u001b[0;34m\u001b[0m\u001b[0;34m\u001b[0m\u001b[0m\n",
            "\u001b[0;32m/usr/local/lib/python3.10/dist-packages/cassandra/datastax/cloud/__init__.py\u001b[0m in \u001b[0;36mread_metadata_info\u001b[0;34m(config, cloud_config)\u001b[0m\n\u001b[1;32m    138\u001b[0m     \u001b[0;32mexcept\u001b[0m \u001b[0mException\u001b[0m \u001b[0;32mas\u001b[0m \u001b[0me\u001b[0m\u001b[0;34m:\u001b[0m\u001b[0;34m\u001b[0m\u001b[0;34m\u001b[0m\u001b[0m\n\u001b[1;32m    139\u001b[0m         \u001b[0mlog\u001b[0m\u001b[0;34m.\u001b[0m\u001b[0mexception\u001b[0m\u001b[0;34m(\u001b[0m\u001b[0me\u001b[0m\u001b[0;34m)\u001b[0m\u001b[0;34m\u001b[0m\u001b[0;34m\u001b[0m\u001b[0m\n\u001b[0;32m--> 140\u001b[0;31m         raise DriverException(\"Unable to connect to the metadata service at %s. \"\n\u001b[0m\u001b[1;32m    141\u001b[0m                               \"Check the cluster status in the cloud console. \" % url)\n\u001b[1;32m    142\u001b[0m \u001b[0;34m\u001b[0m\u001b[0m\n",
            "\u001b[0;31mDriverException\u001b[0m: Unable to connect to the metadata service at https://3c4fc467-6c52-444c-8464-0ebddaaed953-us-east1.db.astra.datastax.com:29080/metadata. Check the cluster status in the cloud console. "
          ]
        }
      ]
    },
    {
      "cell_type": "markdown",
      "source": [
        "# Define the Gradient's Model Adapter for LLAMA-2"
      ],
      "metadata": {
        "id": "1I8T-kjh4VoX"
      }
    },
    {
      "cell_type": "code",
      "source": [
        "# llm = GradientBaseModelLLM(\n",
        "#     base_model_slug=\"llama2-70b-chat\",\n",
        "#     max_tokens=510,\n",
        "# )\n",
        "\n",
        "llm = GradientBaseModelLLM(\n",
        "    base_model_slug=\"mixtral-8x7b-instruct\",\n",
        "    max_tokens=510,\n",
        ")"
      ],
      "metadata": {
        "id": "EksBmgQt36_v"
      },
      "execution_count": null,
      "outputs": []
    },
    {
      "cell_type": "code",
      "source": [],
      "metadata": {
        "id": "y9M66zYe3XGD"
      },
      "execution_count": null,
      "outputs": []
    },
    {
      "cell_type": "markdown",
      "source": [
        "# Configure Gradient embeddings"
      ],
      "metadata": {
        "id": "CPTqOwXZ4aLy"
      }
    },
    {
      "cell_type": "code",
      "source": [
        "embed_model = GradientEmbedding(\n",
        "    gradient_access_token = os.environ[\"GRADIENT_ACCESS_TOKEN\"],\n",
        "    gradient_workspace_id = os.environ[\"GRADIENT_WORKSPACE_ID\"],\n",
        "    gradient_model_slug=\"bge-large\",\n",
        ")\n",
        "\n",
        "# embed_model = LangchainEmbedding(HuggingFaceEmbeddings())"
      ],
      "metadata": {
        "id": "38_uBhIy2XtA"
      },
      "execution_count": null,
      "outputs": []
    },
    {
      "cell_type": "code",
      "source": [
        "service_context = ServiceContext.from_defaults(\n",
        "    llm = llm,\n",
        "    embed_model = embed_model,\n",
        "    chunk_size=512,\n",
        ")\n",
        "\n",
        "set_global_service_context(service_context)"
      ],
      "metadata": {
        "id": "mf7hu0cE2VKy"
      },
      "execution_count": null,
      "outputs": []
    },
    {
      "cell_type": "markdown",
      "source": [
        "# Load the PDFs"
      ],
      "metadata": {
        "id": "T3AEoS-t4t6f"
      }
    },
    {
      "cell_type": "code",
      "source": [
        "documents = SimpleDirectoryReader(\"/content/documents\").load_data()\n",
        "print(f\"Loaded {len(documents)} document(s).\")"
      ],
      "metadata": {
        "id": "KFXZvFaQ25kE",
        "colab": {
          "base_uri": "https://localhost:8080/"
        },
        "outputId": "5b8a290d-0068-49f0-e993-91a564ac581d"
      },
      "execution_count": null,
      "outputs": [
        {
          "output_type": "stream",
          "name": "stdout",
          "text": [
            "Loaded 5 document(s).\n"
          ]
        }
      ]
    },
    {
      "cell_type": "markdown",
      "source": [
        "# Setup and Query Index"
      ],
      "metadata": {
        "id": "Ns8r13uw4vko"
      }
    },
    {
      "cell_type": "code",
      "source": [
        "index = VectorStoreIndex.from_documents(documents,\n",
        "                                        service_context=service_context)\n",
        "query_engine = index.as_query_engine()"
      ],
      "metadata": {
        "id": "YT9wD9sQ25nv"
      },
      "execution_count": null,
      "outputs": []
    },
    {
      "cell_type": "code",
      "source": [
        "structure = '''{\n",
        "  \"questions\": [\n",
        "    {\n",
        "      \"question\": \"Чему равна площадь прямоугольного треугольника со сторонами 20 см и 30 см\",\n",
        "      \"options\": [\n",
        "        {\n",
        "          \"option\": \"600 см^2\",\n",
        "          \"correct\": true,\n",
        "          \"tip\": \"Так как треугольник прямоугольный, воспользуемся формулой из главы 'Площади': S = a * b, где a, b - стороны искомого треугольника.\"\n",
        "        },\n",
        "        ...\n",
        "      ]\n",
        "    },\n",
        "    ...\n",
        "  ]\n",
        "}\n",
        "'''\n",
        "\n",
        "structure = ''\n",
        "\n",
        "prompt = \"Составь тест: 2 вопроса с 4 вариантами ответа на каждый по материалу урока из загруженных файлов. Из 4 вариантов должен быть только один верный. К каждому варианту ответа должен быть предоставлено пояснение (tip) - цитатата из текста, если вариант верный, и пояснение или опровергающая цитата, если вариант неверный. Пришли тест мне в строго формате без лишних символов и объяснений сохраняя структуру json. Не вставляй в текст ссылки, графические знаки или что-либо еще, пришли только символьный текст в нужном формате. Все специальные символы запрещены. Пример ожидаемого ответа: \" + structure\n",
        "\n",
        "prompt = 'Сформулируй тест: вопрос по теме урока из загруженного файла и возможный ответ к нему. Пришли только вопрос в формате строки. Формат твоего вывода: <Вопрос> <Короткий ответ> <Пояснение с цитатой из материала, объясняющее почему ответ верен>. Пример: <Чему равна площадь прямоугольного треугольника со сторонами 20 см и 30 см?><600 см^2><Так как треугольник прямоугольный, воспользуемся формулой из главы \"Площади\": S = a * b, где a, b - стороны искомого треугольника.>' + structure\n",
        "pprint(prompt)"
      ],
      "metadata": {
        "id": "esCA4KUfYN9U",
        "colab": {
          "base_uri": "https://localhost:8080/"
        },
        "outputId": "8477fcac-a3dd-46ff-da16-862221e71a43"
      },
      "execution_count": null,
      "outputs": [
        {
          "output_type": "stream",
          "name": "stdout",
          "text": [
            "('Сформулируй тест: вопрос по теме урока из загруженного файла и возможный '\n",
            " 'ответ к нему. Пришли только вопрос в формате строки. Формат твоего вывода: '\n",
            " '<Вопрос> <Короткий ответ> <Пояснение с цитатой из материала, объясняющее '\n",
            " 'почему ответ верен>. Пример: <Чему равна площадь прямоугольного треугольника '\n",
            " 'со сторонами 20 см и 30 см?><600 см^2><Так как треугольник прямоугольный, '\n",
            " 'воспользуемся формулой из главы \"Площади\": S = a * b, где a, b - стороны '\n",
            " 'искомого треугольника.>')\n"
          ]
        }
      ]
    },
    {
      "cell_type": "code",
      "source": [
        "response = query_engine.query(prompt).response\n",
        "response"
      ],
      "metadata": {
        "id": "ZVYy24TR2VSM",
        "colab": {
          "base_uri": "https://localhost:8080/",
          "height": 104
        },
        "outputId": "33544fef-f2d2-4c51-8373-f1da17a701ee"
      },
      "execution_count": null,
      "outputs": [
        {
          "output_type": "execute_result",
          "data": {
            "text/plain": [
              "'<What is the value of R1 to maximize the frequency range for which the circuit looks inductive, given R2 = 50ME and the condition Rj // R1 = 50kΩ?> <R1 = 50kΩ> <According to equation (8), to maximize the frequency range for which the circuit looks inductive, we should minimize R1. Given the condition Rj // R1 = 50kΩ, we can find R1 by using the formula for parallel resistance: R1 = (Rj * R_total) / (Rj + R_total) = (50kΩ * 50ME) / (50kΩ + 50ME) = 50kΩ.>'"
            ],
            "application/vnd.google.colaboratory.intrinsic+json": {
              "type": "string"
            }
          },
          "metadata": {},
          "execution_count": 240
        }
      ]
    },
    {
      "cell_type": "code",
      "source": [
        "import re\n",
        "import json\n",
        "\n",
        "def decode_to_json(text):\n",
        "    # Pattern to match content within \"<>\"\n",
        "    pattern = r'<(.*?)>'\n",
        "    matches = re.findall(pattern, text)\n",
        "\n",
        "    # Initialize the structure of the JSON\n",
        "    result = {\"questions\": []}\n",
        "    question = None\n",
        "\n",
        "    for match in matches:\n",
        "        # Check if the current match is a question\n",
        "        if match.endswith('?'):\n",
        "            question = {\"question\": match, \"options\": []}\n",
        "            result[\"questions\"].append(question)\n",
        "        else:\n",
        "            # Check if the current match contains an option (e.g., \"R1 = 2.6MΩ\")\n",
        "            option_match = re.search(r'R1\\s*=\\s*([\\d.]+[MKΩ]+)', match)\n",
        "            if option_match:\n",
        "                # Found an R1 option, create a new option entry\n",
        "                option_text = \"R1 = \" + option_match.group(1)\n",
        "                option = {\"option\": option_text, \"correct\": True, \"tip\": match}\n",
        "                if question:\n",
        "                    question[\"options\"].append(option)\n",
        "            elif question and question[\"options\"]:\n",
        "                # If there's already an option, append the current match as additional information to the last option's tip\n",
        "                question[\"options\"][-1]['tip'] += \" \" + match\n",
        "\n",
        "    return json.dumps(result, indent=2)\n",
        "\n",
        "decoded_json = decode_to_json(response)\n",
        "print(decoded_json)\n",
        "data = json.loads(decoded_json)\n",
        "data['questions'][0]['question']\n"
      ],
      "metadata": {
        "id": "nRyW0E5N4DiX",
        "colab": {
          "base_uri": "https://localhost:8080/",
          "height": 211
        },
        "outputId": "1cdc7a7c-ba79-4686-eab6-c7ab4e33e321"
      },
      "execution_count": null,
      "outputs": [
        {
          "output_type": "stream",
          "name": "stdout",
          "text": [
            "{\n",
            "  \"questions\": [\n",
            "    {\n",
            "      \"question\": \"What is the value of R1 to maximize the frequency range for which the circuit looks inductive, given R2 = 50ME and the condition Rj // R1 = 50k\\u03a9?\",\n",
            "      \"options\": []\n",
            "    }\n",
            "  ]\n",
            "}\n"
          ]
        },
        {
          "output_type": "execute_result",
          "data": {
            "text/plain": [
              "'What is the value of R1 to maximize the frequency range for which the circuit looks inductive, given R2 = 50ME and the condition Rj // R1 = 50kΩ?'"
            ],
            "application/vnd.google.colaboratory.intrinsic+json": {
              "type": "string"
            }
          },
          "metadata": {},
          "execution_count": 241
        }
      ]
    },
    {
      "cell_type": "code",
      "source": [
        "prompt = 'You are given the following json structure of some educational test: ' + decoded_json\n",
        "prompt += '\\n Continue it in such a way to add 3 more irrelevant and incorrect answers. In \"tip\" field give an explanation why it is not correct based on files donwloaded. Send me the answer in the same well-compiled json format. '\n",
        "\n",
        "#shorter prompt\n",
        "prompt = \"Create 2 (two) invalid distraction answers for this question: \"+ data['questions'][0]['question']\n",
        "prompt += '\\nФормат твоего вывода: 1. <Короткий неверный ответ> <Пояснение с цитатой из материала, объясняющее, почему ответ неверен>.'\n",
        "print(prompt)"
      ],
      "metadata": {
        "colab": {
          "base_uri": "https://localhost:8080/"
        },
        "id": "H4feLrqTuDfB",
        "outputId": "73e670cf-534d-41eb-b77f-9f35363617f9"
      },
      "execution_count": null,
      "outputs": [
        {
          "output_type": "stream",
          "name": "stdout",
          "text": [
            "Create 2 (two) invalid distraction answers for this question: What is the value of R1 to maximize the frequency range for which the circuit looks inductive, given R2 = 50ME and the condition Rj // R1 = 50kΩ?\n",
            "Формат твоего вывода: 1. <Короткий неверный ответ> <Пояснение с цитатой из материала, объясняющее, почему ответ неверен>.\n"
          ]
        }
      ]
    },
    {
      "cell_type": "code",
      "source": [
        "response = query_engine.query(prompt).response\n",
        "print(response)"
      ],
      "metadata": {
        "colab": {
          "base_uri": "https://localhost:8080/"
        },
        "id": "teo1EKwcvfs5",
        "outputId": "f4f18547-1a26-4742-e60a-cea0d70c7d33"
      },
      "execution_count": null,
      "outputs": [
        {
          "output_type": "stream",
          "name": "stdout",
          "text": [
            "1. R1 = 0 Ω, < A value of R1 equal to 0 Ohms would mean that R1 is a short circuit, which is not possible in this case. The condition Rj // R1 = 50kΩ would not be satisfied, and the circuit would not function properly. The patient protection requirement mentioned in the new context also makes this answer invalid.>\n",
            "2. R1 = 1 GΩ, < The goal is to maximize the frequency range for which the circuit looks inductive, but increasing the value of R1 beyond a certain limit will not help achieve this goal. In fact, it may have the opposite effect. According to the problem, the optimal solution is R1 = 50kΩ. The new context about patient protection does not affect the validity of this answer, as a value of 1 GΩ for R1 is still not the optimal solution.>\n"
          ]
        }
      ]
    },
    {
      "cell_type": "code",
      "source": [
        "import re\n",
        "import json\n",
        "\n",
        "def add_invalid_answers(llm_answers, existing_data):\n",
        "    # Define a pattern to match the LLM answers structure\n",
        "    pattern = r'(\\d+)\\)\\s+(R1\\s*=\\s*[\\d.]+\\s*[GMk]?Ω).*?\"(.*?)\"\\s+\\(page_label:\\s+(\\d+)\\)'\n",
        "    matches = re.findall(pattern, llm_answers, re.DOTALL)\n",
        "    print(matches)\n",
        "\n",
        "    for match in matches:\n",
        "        # Extracting the components of each invalid answer\n",
        "        _, option, explanation, page_label = match\n",
        "\n",
        "        # Construct the option dictionary\n",
        "        invalid_option = {\n",
        "            \"option\": option,\n",
        "            \"correct\": False,  # Marking the answer as incorrect\n",
        "            \"tip\": f'{explanation} (page_label: {page_label})'\n",
        "        }\n",
        "\n",
        "        # Assuming there's only one question and we're adding invalid options to it\n",
        "        if existing_data['questions']:\n",
        "            existing_data['questions'][0]['options'].append(invalid_option)\n",
        "\n",
        "    return existing_data\n",
        "\n",
        "# Example usage\n",
        "llm_answers = response\n",
        "\n",
        "existing_data = {\n",
        "  \"questions\": [\n",
        "    {\n",
        "      \"question\": \"What is the value of R1 in the circuit with the given component values and conditions, and how does it affect the frequency range of the circuit?\",\n",
        "      \"options\": [\n",
        "        {\n",
        "          \"option\": \"R1 = 2.6MΩ\",\n",
        "          \"correct\": True,\n",
        "          \"tip\": \"R1 = 2.6MΩ. To maximize the frequency range for which the circuit looks inductive, R1 should be minimized. Solution 1 yields a smaller value of R1, which results in a predicted time constant of 100 seconds. According to equation (11), RjR2=2.6X1012, and from the first solution of the equations, R1 = RjR2 / R2 = 2.6MΩ for Rj = 1GE (10^9 Ω), R2 = 100MΩ (10^7 Ω), and C1 = 1pF.\"\n",
        "        }\n",
        "      ]\n",
        "    }\n",
        "  ]\n",
        "}\n",
        "\n",
        "# Transform and add invalid answers to the existing data\n",
        "updated_data = add_invalid_answers(llm_answers, existing_data)\n",
        "\n",
        "# Print the updated JSON structure\n",
        "print(json.dumps(updated_data, indent=2))\n"
      ],
      "metadata": {
        "colab": {
          "base_uri": "https://localhost:8080/"
        },
        "id": "aL5kAi9awN9S",
        "outputId": "9f1f15d1-0d21-445b-f62f-9e7a2b4a1a6b"
      },
      "execution_count": null,
      "outputs": [
        {
          "output_type": "stream",
          "name": "stdout",
          "text": [
            "[]\n",
            "{\n",
            "  \"questions\": [\n",
            "    {\n",
            "      \"question\": \"What is the value of R1 in the circuit with the given component values and conditions, and how does it affect the frequency range of the circuit?\",\n",
            "      \"options\": [\n",
            "        {\n",
            "          \"option\": \"R1 = 2.6M\\u03a9\",\n",
            "          \"correct\": true,\n",
            "          \"tip\": \"R1 = 2.6M\\u03a9. To maximize the frequency range for which the circuit looks inductive, R1 should be minimized. Solution 1 yields a smaller value of R1, which results in a predicted time constant of 100 seconds. According to equation (11), RjR2=2.6X1012, and from the first solution of the equations, R1 = RjR2 / R2 = 2.6M\\u03a9 for Rj = 1GE (10^9 \\u03a9), R2 = 100M\\u03a9 (10^7 \\u03a9), and C1 = 1pF.\"\n",
            "        }\n",
            "      ]\n",
            "    }\n",
            "  ]\n",
            "}\n"
          ]
        }
      ]
    },
    {
      "cell_type": "code",
      "source": [
        "!python --version"
      ],
      "metadata": {
        "colab": {
          "base_uri": "https://localhost:8080/"
        },
        "id": "qdOBoAhtx_4p",
        "outputId": "4a1b05ce-2bb8-43b7-9513-3b5c8ce87bd3"
      },
      "execution_count": null,
      "outputs": [
        {
          "output_type": "stream",
          "name": "stdout",
          "text": [
            "Python 3.10.12\n"
          ]
        }
      ]
    },
    {
      "cell_type": "code",
      "source": [],
      "metadata": {
        "id": "LSMGEKOzyGno"
      },
      "execution_count": null,
      "outputs": []
    }
  ]
}